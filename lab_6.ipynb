{
  "nbformat": 4,
  "nbformat_minor": 0,
  "metadata": {
    "colab": {
      "provenance": [],
      "include_colab_link": true
    },
    "kernelspec": {
      "name": "python3",
      "display_name": "Python 3"
    },
    "language_info": {
      "name": "python"
    }
  },
  "cells": [
    {
      "cell_type": "markdown",
      "metadata": {
        "id": "view-in-github",
        "colab_type": "text"
      },
      "source": [
        "<a href=\"https://colab.research.google.com/github/gutamgiridharreddy/2303A51285_B19/blob/main/lab_6.ipynb\" target=\"_parent\"><img src=\"https://colab.research.google.com/assets/colab-badge.svg\" alt=\"Open In Colab\"/></a>"
      ]
    },
    {
      "cell_type": "code",
      "source": [
        "#detecting missing values\n",
        "import pandas as pd\n",
        "import numpy as np\n",
        "data = {\n",
        "    \"Name\": [\"manohar\", \"giri\", \"Priya\", \"Anjali\", \"Kiran\"],\n",
        "    \"Age\": [20, np.nan, 22, 21, np.nan],\n",
        "    \"Marks\": [85, 90, np.nan, 76, 88]\n",
        "}\n",
        "df=pd.DataFrame(data)\n",
        "print(df)\n",
        "print(df.isnull())\n",
        "df['Age']=df['Age'].fillna(df['Age'].mean())\n",
        "print(df['Age'])\n",
        "df_fill=df.fillna(0)\n",
        "print(\"\\nDataFrame after filling missing values with 0:\")\n",
        "print(df_fill)\n",
        "\n",
        "df_dropped=df.dropna()\n",
        "print(\"\\nDataFrame after dropping rows with missing values:\")\n",
        "print(df_dropped)"
      ],
      "metadata": {
        "id": "MnkWH8BdElIf",
        "colab": {
          "base_uri": "https://localhost:8080/"
        },
        "outputId": "80414655-cd40-4700-a67d-6a10c61ed5a3"
      },
      "execution_count": 6,
      "outputs": [
        {
          "output_type": "stream",
          "name": "stdout",
          "text": [
            "      Name   Age  Marks\n",
            "0  manohar  20.0   85.0\n",
            "1     giri   NaN   90.0\n",
            "2    Priya  22.0    NaN\n",
            "3   Anjali  21.0   76.0\n",
            "4    Kiran   NaN   88.0\n",
            "    Name    Age  Marks\n",
            "0  False  False  False\n",
            "1  False   True  False\n",
            "2  False  False   True\n",
            "3  False  False  False\n",
            "4  False   True  False\n",
            "0    20.0\n",
            "1    21.0\n",
            "2    22.0\n",
            "3    21.0\n",
            "4    21.0\n",
            "Name: Age, dtype: float64\n",
            "\n",
            "DataFrame after filling missing values with 0:\n",
            "      Name   Age  Marks\n",
            "0  manohar  20.0   85.0\n",
            "1     giri  21.0   90.0\n",
            "2    Priya  22.0    0.0\n",
            "3   Anjali  21.0   76.0\n",
            "4    Kiran  21.0   88.0\n",
            "\n",
            "DataFrame after dropping rows with missing values:\n",
            "      Name   Age  Marks\n",
            "0  manohar  20.0   85.0\n",
            "1     giri  21.0   90.0\n",
            "3   Anjali  21.0   76.0\n",
            "4    Kiran  21.0   88.0\n"
          ]
        }
      ]
    },
    {
      "cell_type": "code",
      "source": [
        "import numpy as np\n",
        "import pandas as pd\n",
        "data={\n",
        "    'ID':['1','2','3','4','5','6'],\n",
        "    'Name':['Manohar','Ravi','Priya','Anjali','Kiran','Ravi'],\n",
        "    'Marks':[90,91,92,93,94,95]\n",
        "}\n",
        "df=pd.DataFrame(data)\n",
        "print(df)\n",
        "#remove duplicate data\n",
        "df_no_duplicates=df.drop_duplicates('ID')\n",
        "print(\"\\nDataFrame after removing duplicates:\")\n",
        "print(df_no_duplicates)\n",
        "df['ID']=pd.to_numeric(df['ID'])\n",
        "print(df)\n",
        "print(df.dtypes)\n",
        "df['marks_normalization']=(df['Marks']-df['Marks'].min()/df['Marks'].max()-df['Marks'].min())\n",
        "print(df)"
      ],
      "metadata": {
        "colab": {
          "base_uri": "https://localhost:8080/"
        },
        "id": "y8bLBZwRJvAQ",
        "outputId": "ceabec7d-4690-46d3-88d7-a73b4f60dd98"
      },
      "execution_count": 2,
      "outputs": [
        {
          "output_type": "stream",
          "name": "stdout",
          "text": [
            "  ID     Name  Marks\n",
            "0  1  Manohar     90\n",
            "1  2     Ravi     91\n",
            "2  3    Priya     92\n",
            "3  4   Anjali     93\n",
            "4  5    Kiran     94\n",
            "5  6     Ravi     95\n",
            "\n",
            "DataFrame after removing duplicates:\n",
            "  ID     Name  Marks\n",
            "0  1  Manohar     90\n",
            "1  2     Ravi     91\n",
            "2  3    Priya     92\n",
            "3  4   Anjali     93\n",
            "4  5    Kiran     94\n",
            "5  6     Ravi     95\n",
            "   ID     Name  Marks\n",
            "0   1  Manohar     90\n",
            "1   2     Ravi     91\n",
            "2   3    Priya     92\n",
            "3   4   Anjali     93\n",
            "4   5    Kiran     94\n",
            "5   6     Ravi     95\n",
            "ID        int64\n",
            "Name     object\n",
            "Marks     int64\n",
            "dtype: object\n",
            "   ID     Name  Marks  marks_normalization\n",
            "0   1  Manohar     90            -0.947368\n",
            "1   2     Ravi     91             0.052632\n",
            "2   3    Priya     92             1.052632\n",
            "3   4   Anjali     93             2.052632\n",
            "4   5    Kiran     94             3.052632\n",
            "5   6     Ravi     95             4.052632\n"
          ]
        }
      ]
    },
    {
      "cell_type": "code",
      "source": [
        "import pandas as pd\n",
        "data={\n",
        "    'ID':['1','2','3','4'],\n",
        "    'Name':['Manohar','Ravi','Priya','Anjali'],\n",
        "}\n",
        "marks={\n",
        "    'ID':['1','2','3','4','5','6'],\n",
        "    'Marks':[90,91,92,93,94,95]\n",
        "}\n",
        "data_df = pd.DataFrame(data)\n",
        "marks_df = pd.DataFrame(marks)\n",
        "merged=pd.merge(data_df,marks_df,on='ID',how='outer')\n",
        "print(merged)\n",
        "right=pd.merge(data_df,marks_df,on='ID',how='inner')\n",
        "print(right)\n",
        "left=pd.merge(data_df,marks_df,on='ID',how='left')\n",
        "print(left)\n",
        "right=pd.merge(data_df,marks_df,on='ID',how='right')\n",
        "print(right)\n",
        "#joins\n",
        "join_df=data_df.join(marks_df.set_index('ID'), on='ID',how='outer')\n",
        "print(join_df)"
      ],
      "metadata": {
        "colab": {
          "base_uri": "https://localhost:8080/"
        },
        "id": "zp_YjA_aJyv5",
        "outputId": "55b1b1f2-cb47-49f5-c4db-8bb321f7307f"
      },
      "execution_count": 3,
      "outputs": [
        {
          "output_type": "stream",
          "name": "stdout",
          "text": [
            "  ID     Name  Marks\n",
            "0  1  Manohar     90\n",
            "1  2     Ravi     91\n",
            "2  3    Priya     92\n",
            "3  4   Anjali     93\n",
            "4  5      NaN     94\n",
            "5  6      NaN     95\n",
            "  ID     Name  Marks\n",
            "0  1  Manohar     90\n",
            "1  2     Ravi     91\n",
            "2  3    Priya     92\n",
            "3  4   Anjali     93\n",
            "  ID     Name  Marks\n",
            "0  1  Manohar     90\n",
            "1  2     Ravi     91\n",
            "2  3    Priya     92\n",
            "3  4   Anjali     93\n",
            "  ID     Name  Marks\n",
            "0  1  Manohar     90\n",
            "1  2     Ravi     91\n",
            "2  3    Priya     92\n",
            "3  4   Anjali     93\n",
            "4  5      NaN     94\n",
            "5  6      NaN     95\n",
            "    ID     Name  Marks\n",
            "0.0  1  Manohar     90\n",
            "1.0  2     Ravi     91\n",
            "2.0  3    Priya     92\n",
            "3.0  4   Anjali     93\n",
            "NaN  5      NaN     94\n",
            "NaN  6      NaN     95\n"
          ]
        }
      ]
    },
    {
      "cell_type": "code",
      "source": [
        "import pandas as pd\n",
        "data = {'PatientID': range(1, 11), 'Age': [25, 34, -5, 67, 145, 56, 89, 120, 130, 40]}\n",
        "df = pd.DataFrame(data)\n",
        "print(\"Before Cleaning:\")\n",
        "print(df)\n",
        "df_cleaned = df[(df['Age'] >= 0) & (df['Age'] <= 120)]\n",
        "print(\"\\nAfter Cleaning:\")\n",
        "print(df_cleaned)"
      ],
      "metadata": {
        "id": "yCQLFRAbPZiS",
        "colab": {
          "base_uri": "https://localhost:8080/"
        },
        "outputId": "caf9497a-b21f-4e98-a61c-4df7398b6389"
      },
      "execution_count": 4,
      "outputs": [
        {
          "output_type": "stream",
          "name": "stdout",
          "text": [
            "Before Cleaning:\n",
            "   PatientID  Age\n",
            "0          1   25\n",
            "1          2   34\n",
            "2          3   -5\n",
            "3          4   67\n",
            "4          5  145\n",
            "5          6   56\n",
            "6          7   89\n",
            "7          8  120\n",
            "8          9  130\n",
            "9         10   40\n",
            "\n",
            "After Cleaning:\n",
            "   PatientID  Age\n",
            "0          1   25\n",
            "1          2   34\n",
            "3          4   67\n",
            "5          6   56\n",
            "6          7   89\n",
            "7          8  120\n",
            "9         10   40\n"
          ]
        }
      ]
    },
    {
      "cell_type": "code",
      "source": [
        "import pandas as pd\n",
        "from sklearn.preprocessing import MinMaxScaler, StandardScaler\n",
        "data = {'CustomerID': range(1, 6), 'Income': [25000, 50000, 75000, 100000, 150000]}\n",
        "df = pd.DataFrame(data)\n",
        "print(\"Original Data:\")\n",
        "print(df)\n",
        "scaler = MinMaxScaler()\n",
        "df['Income_MinMax'] = scaler.fit_transform(df[['Income']])\n",
        "scaler = StandardScaler()\n",
        "df['Income_Standardized'] = scaler.fit_transform(df[['Income']])\n",
        "print(\"\\nScaled Data:\")\n",
        "print(df)"
      ],
      "metadata": {
        "colab": {
          "base_uri": "https://localhost:8080/"
        },
        "id": "8aOuzoKObC3A",
        "outputId": "9864d50b-170b-4b28-d8ac-dfa674bcc00a"
      },
      "execution_count": 5,
      "outputs": [
        {
          "output_type": "stream",
          "name": "stdout",
          "text": [
            "Original Data:\n",
            "   CustomerID  Income\n",
            "0           1   25000\n",
            "1           2   50000\n",
            "2           3   75000\n",
            "3           4  100000\n",
            "4           5  150000\n",
            "\n",
            "Scaled Data:\n",
            "   CustomerID  Income  Income_MinMax  Income_Standardized\n",
            "0           1   25000            0.0            -1.278724\n",
            "1           2   50000            0.2            -0.697486\n",
            "2           3   75000            0.4            -0.116248\n",
            "3           4  100000            0.6             0.464991\n",
            "4           5  150000            1.0             1.627467\n"
          ]
        }
      ]
    }
  ]
}
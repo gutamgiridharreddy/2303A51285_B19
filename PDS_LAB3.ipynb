{
  "nbformat": 4,
  "nbformat_minor": 0,
  "metadata": {
    "colab": {
      "provenance": [],
      "authorship_tag": "ABX9TyNxYvT/pSxZESOGCDCl0HfW",
      "include_colab_link": true
    },
    "kernelspec": {
      "name": "python3",
      "display_name": "Python 3"
    },
    "language_info": {
      "name": "python"
    }
  },
  "cells": [
    {
      "cell_type": "markdown",
      "metadata": {
        "id": "view-in-github",
        "colab_type": "text"
      },
      "source": [
        "<a href=\"https://colab.research.google.com/github/gutamgiridharreddy/2303A51285_B19/blob/main/PDS_LAB3.ipynb\" target=\"_parent\"><img src=\"https://colab.research.google.com/assets/colab-badge.svg\" alt=\"Open In Colab\"/></a>"
      ]
    },
    {
      "cell_type": "code",
      "execution_count": 2,
      "metadata": {
        "colab": {
          "base_uri": "https://localhost:8080/"
        },
        "id": "qiwhTjYS4thb",
        "outputId": "f7917723-153b-4be8-8d4d-5fc45b4977ec"
      },
      "outputs": [
        {
          "output_type": "stream",
          "name": "stdout",
          "text": [
            "2D Array 1:\n",
            " [[1 2 3]\n",
            " [4 5 6]]\n",
            "2D Array 2:\n",
            " [[10 20 30]\n",
            " [40 50 60]]\n",
            "\n",
            "--- 2D Array Operations---\n",
            "Addition:\n",
            " [[11 22 33]\n",
            " [44 55 66]]\n",
            "Subtraction:\n",
            " [[ 9 18 27]\n",
            " [36 45 54]]\n",
            "Multiplication:\n",
            " [[ 10  40  90]\n",
            " [160 250 360]]\n",
            "Division:\n",
            " [[10. 10. 10.]\n",
            " [10. 10. 10.]]\n",
            "Square of arr2D_1:\n",
            " [[ 1  4  9]\n",
            " [16 25 36]]\n"
          ]
        }
      ],
      "source": [
        " import numpy as np\n",
        "#1. Create 2D NumPy Arrays\n",
        "arr2D_1 = np.array([[1, 2, 3],\n",
        "                    [4, 5, 6]])\n",
        "arr2D_2 = np.array([[10, 20, 30],\n",
        "                    [40, 50, 60]])\n",
        " print(\"2D Array 1:\\n\", arr2D_1)\n",
        " print(\"2D Array 2:\\n\", arr2D_2)\n",
        " # Mathematical Operations on 2D arrays\n",
        " print(\"\\n--- 2D Array Operations---\")\n",
        " print(\"Addition:\\n\", arr2D_1 + arr2D_2)\n",
        " print(\"Subtraction:\\n\", arr2D_2- arr2D_1)\n",
        " # Element-wise addition\n",
        " # Element-wise subtraction\n",
        " print(\"Multiplication:\\n\", arr2D_1 * arr2D_2)\n",
        " print(\"Division:\\n\", arr2D_2 / arr2D_1)\n",
        " print(\"Square of arr2D_1:\\n\", arr2D_1 ** 2)"
      ]
    },
    {
      "cell_type": "code",
      "source": [
        "# 2. Create 3D NumPy Arrays\n",
        "arr3D_1 = np.array([\n",
        " [[1, 2], [3, 4]],\n",
        " [[5, 6], [7, 8]]\n",
        " ])\n",
        "arr3D_2 = np.array([\n",
        " [[10, 20], [30, 40]],\n",
        " [[50, 60], [70, 80]]\n",
        " ])\n",
        "print(\"\\n3D Array 1:\\n\", arr3D_1)\n",
        "print(\"3D Array 2:\\n\", arr3D_2)\n",
        "# Mathematical Operations on 3D arrays\n",
        "print(\"\\n--- 3D Array Operations---\")\n",
        "print(\"Addition:\\n\", arr3D_1 + arr3D_2)\n",
        "print(\"Subtraction:\\n\", arr3D_2- arr3D_1)\n",
        "print(\"Multiplication:\\n\", arr3D_1 * arr3D_2)\n",
        "print(\"Division:\\n\", arr3D_2 / arr3D_1)"
      ],
      "metadata": {
        "colab": {
          "base_uri": "https://localhost:8080/"
        },
        "id": "w24fk3B85POn",
        "outputId": "a85730b1-8dd0-4899-fde0-2fad1cac23d1"
      },
      "execution_count": 4,
      "outputs": [
        {
          "output_type": "stream",
          "name": "stdout",
          "text": [
            "\n",
            "3D Array 1:\n",
            " [[[1 2]\n",
            "  [3 4]]\n",
            "\n",
            " [[5 6]\n",
            "  [7 8]]]\n",
            "3D Array 2:\n",
            " [[[10 20]\n",
            "  [30 40]]\n",
            "\n",
            " [[50 60]\n",
            "  [70 80]]]\n",
            "\n",
            "--- 3D Array Operations---\n",
            "Addition:\n",
            " [[[11 22]\n",
            "  [33 44]]\n",
            "\n",
            " [[55 66]\n",
            "  [77 88]]]\n",
            "Subtraction:\n",
            " [[[ 9 18]\n",
            "  [27 36]]\n",
            "\n",
            " [[45 54]\n",
            "  [63 72]]]\n",
            "Multiplication:\n",
            " [[[ 10  40]\n",
            "  [ 90 160]]\n",
            "\n",
            " [[250 360]\n",
            "  [490 640]]]\n",
            "Division:\n",
            " [[[10. 10.]\n",
            "  [10. 10.]]\n",
            "\n",
            " [[10. 10.]\n",
            "  [10. 10.]]]\n"
          ]
        }
      ]
    },
    {
      "cell_type": "code",
      "source": [
        "# 3. Using NumPy Functions\n",
        "print(\"\\n--- NumPy Built-in Functions---\")\n",
        "print(\"Sum of arr2D_1:\", np.sum(arr2D_1))\n",
        "print(\"Mean of arr3D_1:\", np.mean(arr3D_1))\n",
        "print(\"Max value in arr2D_2:\", np.max(arr2D_2))\n",
        "print(\"Min value in arr3D_2:\", np.min(arr3D_2))"
      ],
      "metadata": {
        "colab": {
          "base_uri": "https://localhost:8080/"
        },
        "id": "-U2qhnCQ5gVy",
        "outputId": "8aa97ff4-dacf-4221-e790-66077cf131cc"
      },
      "execution_count": 6,
      "outputs": [
        {
          "output_type": "stream",
          "name": "stdout",
          "text": [
            "\n",
            "--- NumPy Built-in Functions---\n",
            "Sum of arr2D_1: 21\n",
            "Mean of arr3D_1: 4.5\n",
            "Max value in arr2D_2: 60\n",
            "Min value in arr3D_2: 10\n"
          ]
        }
      ]
    },
    {
      "cell_type": "code",
      "source": [
        "import numpy as np\n",
        "#-------------------------\n",
        "# 1. Generate 4x4 Test Score Array\n",
        "#-------------------------\n",
        "np.random.seed(10) # for reproducibility\n",
        "scores = np.random.randint(50, 100, size=(4, 4)) # Test scores between 50-100\n",
        "print(\"Test Scores (4x4):\\n\", scores)\n",
        "#-------------------------\n",
        "# 2. Row-wise & Column-wise Mean\n",
        "#-------------------------\n",
        "row_mean = np.mean(scores, axis=1)\n",
        "col_mean = np.mean(scores, axis=0)\n",
        "print(\"\\nRow-wise Mean:\", row_mean)\n",
        "print(\"Column-wise Mean:\", col_mean)\n",
        "#-------------------------\n",
        "# 3. Standard Deviation & Variance\n",
        "#-------------------------\n",
        "std_dev = np.std(scores)\n",
        "variance = np.var(scores)\n",
        "print(\"\\nStandard Deviation:\", std_dev)\n",
        "print(\"Variance:\", variance)\n",
        "#-------------------------\n",
        "# 4. Global Max & Min with Indices\n",
        "#-------------------------\n",
        "global_max = np.max(scores)\n",
        "global_min = np.min(scores)\n",
        "max_index = np.unravel_index(np.argmax(scores), scores.shape)\n",
        "min_index = np.unravel_index(np.argmin(scores), scores.shape)\n",
        "print(\"\\nGlobal Max:\", global_max, \"at index\", max_index)\n",
        "print(\"Global Min:\", global_min, \"at index\", min_index)\n",
        "#-------------------------\n",
        "# 5. Summary of Statistical Insights\n",
        "#-------------------------\n",
        "print(\"\\n--- Summary---\")\n",
        "print(f\"Row-wise Mean Scores: {row_mean}\")\n",
        "print(f\"Column-wise Mean Scores: {col_mean}\")\n",
        "print(f\"Overall Standard Deviation: {std_dev:.2f}\")\n",
        "print(f\"Overall Variance: {variance:.2f}\")\n",
        "print(f\"Highest Score: {global_max} at {max_index}\")\n",
        "print(f\"Lowest Score: {global_min} at {min_index}\")"
      ],
      "metadata": {
        "colab": {
          "base_uri": "https://localhost:8080/"
        },
        "id": "hbWol6VL52G7",
        "outputId": "fab992c2-9247-4f02-cbf3-10ec88d9ea25"
      },
      "execution_count": 9,
      "outputs": [
        {
          "output_type": "stream",
          "name": "stdout",
          "text": [
            "Test Scores (4x4):\n",
            " [[59 86 65 50]\n",
            " [99 78 75 79]\n",
            " [98 79 99 58]\n",
            " [59 50 92 90]]\n",
            "\n",
            "Row-wise Mean: [65.   82.75 83.5  72.75]\n",
            "Column-wise Mean: [78.75 73.25 82.75 69.25]\n",
            "\n",
            "Standard Deviation: 16.75559608011604\n",
            "Variance: 280.75\n",
            "\n",
            "Global Max: 99 at index (np.int64(1), np.int64(0))\n",
            "Global Min: 50 at index (np.int64(0), np.int64(3))\n",
            "\n",
            "--- Summary---\n",
            "Row-wise Mean Scores: [65.   82.75 83.5  72.75]\n",
            "Column-wise Mean Scores: [78.75 73.25 82.75 69.25]\n",
            "Overall Standard Deviation: 16.76\n",
            "Overall Variance: 280.75\n",
            "Highest Score: 99 at (np.int64(1), np.int64(0))\n",
            "Lowest Score: 50 at (np.int64(0), np.int64(3))\n"
          ]
        }
      ]
    },
    {
      "cell_type": "code",
      "source": [
        "import numpy as np\n",
        "import matplotlib.pyplot as plt\n",
        "#-------------------------\n",
        "# 1. Create 3D RGB Image Array (3x3x3)\n",
        "#-------------------------\n",
        "np.random.seed(15) # For reproducibility\n",
        "image = np.random.randint(0, 256, size=(3, 3, 3), dtype=np.uint8)\n",
        "print(\"Original RGB Image Matrix (3x3x3):\\n\", image)\n",
        "#-------------------------\n",
        "# 2. Extract Red, Green, Blue Channels\n",
        "#-------------------------\n",
        "red_channel = image[:, :, 0]\n",
        "green_channel = image[:, :, 1]\n",
        "blue_channel = image[:, :, 2]\n",
        "print(\"\\nRed Channel:\\n\", red_channel)\n",
        "print(\"Green Channel:\\n\", green_channel)\n",
        "print(\"Blue Channel:\\n\", blue_channel)\n",
        "#-------------------------\n",
        "# 3. Average Pixel Intensity per Channel\n",
        "#-------------------------\n",
        "avg_red = np.mean(red_channel)\n",
        "avg_green = np.mean(green_channel)\n",
        "avg_blue = np.mean(blue_channel)\n",
        "print(\"\\nAverage Pixel Intensities:\")\n",
        "print(f\"Red: {avg_red:.2f}, Green: {avg_green:.2f}, Blue: {avg_blue:.2f}\")\n",
        "#-------------------------\n",
        "# 4. Brighten Image by Adding Scalar (Clip at 255)\n",
        "#-------------------------\n",
        "bright_scalar = 50\n",
        "bright_image = np.clip(image + bright_scalar, 0, 255)\n",
        "print(\"\\nBrightened Image Matrix (Clipped at 255):\\n\", bright_image)\n",
        "#-------------------------\n",
        "# 5. Visualize Original and Brightened Images\n",
        "#-------------------------\n",
        "plt.figure(figsize=(8, 4))\n",
        "# Original Image\n",
        "plt.subplot(1, 2, 1)\n",
        "plt.imshow(image)\n",
        "plt.title(\"Original Image\")\n",
        "plt.axis(\"off\")\n",
        "# Brightened Image\n",
        "plt.subplot(1, 2, 2)\n",
        "plt.imshow(bright_image)\n",
        "plt.title(\"Brightened Image\")\n",
        "plt.axis(\"off\")\n",
        "plt.show()"
      ],
      "metadata": {
        "colab": {
          "base_uri": "https://localhost:8080/",
          "height": 1000
        },
        "id": "2ZfTVmfj6Eqt",
        "outputId": "0afcd5d9-948a-415f-eb16-cb4ce5f8b290"
      },
      "execution_count": 11,
      "outputs": [
        {
          "output_type": "stream",
          "name": "stdout",
          "text": [
            "Original RGB Image Matrix (3x3x3):\n",
            " [[[200  29  76]\n",
            "  [217 245 206]\n",
            "  [ 70 208 140]]\n",
            "\n",
            " [[ 31 204  45]\n",
            "  [133  10  99]\n",
            "  [151 119 191]]\n",
            "\n",
            " [[234  13 128]\n",
            "  [153 105  28]\n",
            "  [156 200 141]]]\n",
            "\n",
            "Red Channel:\n",
            " [[200 217  70]\n",
            " [ 31 133 151]\n",
            " [234 153 156]]\n",
            "Green Channel:\n",
            " [[ 29 245 208]\n",
            " [204  10 119]\n",
            " [ 13 105 200]]\n",
            "Blue Channel:\n",
            " [[ 76 206 140]\n",
            " [ 45  99 191]\n",
            " [128  28 141]]\n",
            "\n",
            "Average Pixel Intensities:\n",
            "Red: 149.44, Green: 125.89, Blue: 117.11\n",
            "\n",
            "Brightened Image Matrix (Clipped at 255):\n",
            " [[[250  79 126]\n",
            "  [ 11  39   0]\n",
            "  [120   2 190]]\n",
            "\n",
            " [[ 81 254  95]\n",
            "  [183  60 149]\n",
            "  [201 169 241]]\n",
            "\n",
            " [[ 28  63 178]\n",
            "  [203 155  78]\n",
            "  [206 250 191]]]\n"
          ]
        },
        {
          "output_type": "display_data",
          "data": {
            "text/plain": [
              "<Figure size 800x400 with 2 Axes>"
            ],
            "image/png": "[encoded data removed]"
          },
          "metadata": {}
        }
      ]
    }
  ]
}
{
  "nbformat": 4,
  "nbformat_minor": 0,
  "metadata": {
    "colab": {
      "provenance": [],
      "authorship_tag": "ABX9TyNODT6fwuGEHA3P/ricHxO3",
      "include_colab_link": true
    },
    "kernelspec": {
      "name": "python3",
      "display_name": "Python 3"
    },
    "language_info": {
      "name": "python"
    }
  },
  "cells": [
    {
      "cell_type": "markdown",
      "metadata": {
        "id": "view-in-github",
        "colab_type": "text"
      },
      "source": [
        "<a href=\"https://colab.research.google.com/github/gutamgiridharreddy/2303A51285_B19/blob/main/PDS_LAB2.ipynb\" target=\"_parent\"><img src=\"https://colab.research.google.com/assets/colab-badge.svg\" alt=\"Open In Colab\"/></a>"
      ]
    },
    {
      "cell_type": "code",
      "execution_count": 24,
      "metadata": {
        "id": "gs-g_m8H1ulh"
      },
      "outputs": [],
      "source": [
        " import numpy as np\n",
        " import pandas as pd"
      ]
    },
    {
      "cell_type": "code",
      "source": [
        "arr=np.array([10,20,30,40,50])\n",
        "print(\"original array:\",arr)"
      ],
      "metadata": {
        "colab": {
          "base_uri": "https://localhost:8080/"
        },
        "id": "fx6w28_B12Yx",
        "outputId": "3b124d1b-dcac-40fd-83b3-89d7fe114f93"
      },
      "execution_count": 25,
      "outputs": [
        {
          "output_type": "stream",
          "name": "stdout",
          "text": [
            "original array: [10 20 30 40 50]\n"
          ]
        }
      ]
    },
    {
      "cell_type": "code",
      "source": [
        "arr+5\n",
        "arr*2\n",
        "arr[arr>25]\n",
        "print(arr)"
      ],
      "metadata": {
        "colab": {
          "base_uri": "https://localhost:8080/"
        },
        "id": "l4Iq1Rg8143E",
        "outputId": "7411eee0-785b-4b1e-a819-afada9792e4b"
      },
      "execution_count": 26,
      "outputs": [
        {
          "output_type": "stream",
          "name": "stdout",
          "text": [
            "[10 20 30 40 50]\n"
          ]
        }
      ]
    },
    {
      "cell_type": "code",
      "source": [
        "# Create a dictionary for the data\n",
        "data = {\n",
        "    'Name': ['Alice', 'Bob', 'Charlie', 'David'],\n",
        "    'Age': [25, 30, 35, 40],\n",
        "    'Score': [85.5, 92.0, 88.0, 76.5]\n",
        "}\n",
        "# Create DataFrame\n",
        "df = pd.DataFrame(data)\n",
        "print(\"\\nOriginal DataFrame:\\n\", df)"
      ],
      "metadata": {
        "colab": {
          "base_uri": "https://localhost:8080/"
        },
        "id": "unLG4LnL1_1b",
        "outputId": "21ae61d1-ebed-4c8a-8397-f92aea603ed9"
      },
      "execution_count": 27,
      "outputs": [
        {
          "output_type": "stream",
          "name": "stdout",
          "text": [
            "\n",
            "Original DataFrame:\n",
            "       Name  Age  Score\n",
            "0    Alice   25   85.5\n",
            "1      Bob   30   92.0\n",
            "2  Charlie   35   88.0\n",
            "3    David   40   76.5\n"
          ]
        }
      ]
    },
    {
      "cell_type": "code",
      "source": [
        "# Add a new column 'Passed' based on Score\n",
        "# Ensure the cell creating the DataFrame 'df' (above) is executed before this cell.\n",
        "df['Passed'] = df['Score'] >= 80\n",
        "print(\"\\nDataFrame with 'Passed' column:\\n\", df)\n",
        "# Filter rows where Age > 30\n",
        "older_students = df[df['Age'] > 30]\n",
        "print(\"\\nStudents older than 30:\\n\", older_students)\n",
        "# Calculate average score\n",
        "average_score = df['Score'].mean()\n",
        "print(\"\\nAverage Score:\", average_score)"
      ],
      "metadata": {
        "colab": {
          "base_uri": "https://localhost:8080/"
        },
        "id": "eimpeCeJ2FxO",
        "outputId": "75e52ad4-5ff2-486f-998f-174ca775f19d"
      },
      "execution_count": 28,
      "outputs": [
        {
          "output_type": "stream",
          "name": "stdout",
          "text": [
            "\n",
            "DataFrame with 'Passed' column:\n",
            "       Name  Age  Score  Passed\n",
            "0    Alice   25   85.5    True\n",
            "1      Bob   30   92.0    True\n",
            "2  Charlie   35   88.0    True\n",
            "3    David   40   76.5   False\n",
            "\n",
            "Students older than 30:\n",
            "       Name  Age  Score  Passed\n",
            "2  Charlie   35   88.0    True\n",
            "3    David   40   76.5   False\n",
            "\n",
            "Average Score: 85.5\n"
          ]
        }
      ]
    },
    {
      "cell_type": "code",
      "source": [
        "data = {'Name': ['Alice', 'Bob', 'Charlie', 'David'], 'Age': [25, 30, 35, 40], 'Score': [85.5, 92.0, 88.0, 76.5]}\n",
        "df = pd.DataFrame(data)\n",
        "print(df)"
      ],
      "metadata": {
        "colab": {
          "base_uri": "https://localhost:8080/"
        },
        "id": "3EehXF702LFv",
        "outputId": "e4972c34-4e7b-45d1-e8ed-f2f98f5766cb"
      },
      "execution_count": 29,
      "outputs": [
        {
          "output_type": "stream",
          "name": "stdout",
          "text": [
            "      Name  Age  Score\n",
            "0    Alice   25   85.5\n",
            "1      Bob   30   92.0\n",
            "2  Charlie   35   88.0\n",
            "3    David   40   76.5\n"
          ]
        }
      ]
    },
    {
      "cell_type": "code",
      "source": [
        "df['Passed'] = df['Score'] >= 80\n",
        "df[df['Age'] > 30]"
      ],
      "metadata": {
        "colab": {
          "base_uri": "https://localhost:8080/",
          "height": 112
        },
        "id": "uOEUwKzC22-b",
        "outputId": "88b7cf0a-963f-44db-87d7-1874f05d92a9"
      },
      "execution_count": 30,
      "outputs": [
        {
          "output_type": "execute_result",
          "data": {
            "text/plain": [
              "      Name  Age  Score  Passed\n",
              "2  Charlie   35   88.0    True\n",
              "3    David   40   76.5   False"
            ],
            "text/html": [
              "\n",
              "  <div id=\"df-d0e1384d-bb38-45c4-a06c-8c3be53c4365\" class=\"colab-df-container\">\n",
              "    <div>\n",
              "<style scoped>\n",
              "    .dataframe tbody tr th:only-of-type {\n",
              "        vertical-align: middle;\n",
              "    }\n",
              "\n",
              "    .dataframe tbody tr th {\n",
              "        vertical-align: top;\n",
              "    }\n",
              "\n",
              "    .dataframe thead th {\n",
              "        text-align: right;\n",
              "    }\n",
              "</style>\n",
              "<table border=\"1\" class=\"dataframe\">\n",
              "  <thead>\n",
              "    <tr style=\"text-align: right;\">\n",
              "      <th></th>\n",
              "      <th>Name</th>\n",
              "      <th>Age</th>\n",
              "      <th>Score</th>\n",
              "      <th>Passed</th>\n",
              "    </tr>\n",
              "  </thead>\n",
              "  <tbody>\n",
              "    <tr>\n",
              "      <th>2</th>\n",
              "      <td>Charlie</td>\n",
              "      <td>35</td>\n",
              "      <td>88.0</td>\n",
              "      <td>True</td>\n",
              "    </tr>\n",
              "    <tr>\n",
              "      <th>3</th>\n",
              "      <td>David</td>\n",
              "      <td>40</td>\n",
              "      <td>76.5</td>\n",
              "      <td>False</td>\n",
              "    </tr>\n",
              "  </tbody>\n",
              "</table>\n",
              "</div>\n",
              "    <div class=\"colab-df-buttons\">\n",
              "\n",
              "  <div class=\"colab-df-container\">\n",
              "    <button class=\"colab-df-convert\" onclick=\"convertToInteractive('df-d0e1384d-bb38-45c4-a06c-8c3be53c4365')\"\n",
              "            title=\"Convert this dataframe to an interactive table.\"\n",
              "            style=\"display:none;\">\n",
              "\n",
              "  <svg xmlns=\"http://www.w3.org/2000/svg\" height=\"24px\" viewBox=\"0 -960 960 960\">\n",
              "    <path d=\"M120-120v-720h720v720H120Zm60-500h600v-160H180v160Zm220 220h160v-160H400v160Zm0 220h160v-160H400v160ZM180-400h160v-160H180v160Zm440 0h160v-160H620v160ZM180-180h160v-160H180v160Zm440 0h160v-160H620v160Z\"/>\n",
              "  </svg>\n",
              "    </button>\n",
              "\n",
              "  <style>\n",
              "    .colab-df-container {\n",
              "      display:flex;\n",
              "      gap: 12px;\n",
              "    }\n",
              "\n",
              "    .colab-df-convert {\n",
              "      background-color: #E8F0FE;\n",
              "      border: none;\n",
              "      border-radius: 50%;\n",
              "      cursor: pointer;\n",
              "      display: none;\n",
              "      fill: #1967D2;\n",
              "      height: 32px;\n",
              "      padding: 0 0 0 0;\n",
              "      width: 32px;\n",
              "    }\n",
              "\n",
              "    .colab-df-convert:hover {\n",
              "      background-color: #E2EBFA;\n",
              "      box-shadow: 0px 1px 2px rgba(60, 64, 67, 0.3), 0px 1px 3px 1px rgba(60, 64, 67, 0.15);\n",
              "      fill: #174EA6;\n",
              "    }\n",
              "\n",
              "    .colab-df-buttons div {\n",
              "      margin-bottom: 4px;\n",
              "    }\n",
              "\n",
              "    [theme=dark] .colab-df-convert {\n",
              "      background-color: #3B4455;\n",
              "      fill: #D2E3FC;\n",
              "    }\n",
              "\n",
              "    [theme=dark] .colab-df-convert:hover {\n",
              "      background-color: #434B5C;\n",
              "      box-shadow: 0px 1px 3px 1px rgba(0, 0, 0, 0.15);\n",
              "      filter: drop-shadow(0px 1px 2px rgba(0, 0, 0, 0.3));\n",
              "      fill: #FFFFFF;\n",
              "    }\n",
              "  </style>\n",
              "\n",
              "    <script>\n",
              "      const buttonEl =\n",
              "        document.querySelector('#df-d0e1384d-bb38-45c4-a06c-8c3be53c4365 button.colab-df-convert');\n",
              "      buttonEl.style.display =\n",
              "        google.colab.kernel.accessAllowed ? 'block' : 'none';\n",
              "\n",
              "      async function convertToInteractive(key) {\n",
              "        const element = document.querySelector('#df-d0e1384d-bb38-45c4-a06c-8c3be53c4365');\n",
              "        const dataTable =\n",
              "          await google.colab.kernel.invokeFunction('convertToInteractive',\n",
              "                                                    [key], {});\n",
              "        if (!dataTable) return;\n",
              "\n",
              "        const docLinkHtml = 'Like what you see? Visit the ' +\n",
              "          '<a target=\"_blank\" href=https://colab.research.google.com/notebooks/data_table.ipynb>data table notebook</a>'\n",
              "          + ' to learn more about interactive tables.';\n",
              "        element.innerHTML = '';\n",
              "        dataTable['output_type'] = 'display_data';\n",
              "        await google.colab.output.renderOutput(dataTable, element);\n",
              "        const docLink = document.createElement('div');\n",
              "        docLink.innerHTML = docLinkHtml;\n",
              "        element.appendChild(docLink);\n",
              "      }\n",
              "    </script>\n",
              "  </div>\n",
              "\n",
              "\n",
              "    <div id=\"df-eb7fb3f8-6124-421e-8a1f-a4ff71452cc2\">\n",
              "      <button class=\"colab-df-quickchart\" onclick=\"quickchart('df-eb7fb3f8-6124-421e-8a1f-a4ff71452cc2')\"\n",
              "                title=\"Suggest charts\"\n",
              "                style=\"display:none;\">\n",
              "\n",
              "<svg xmlns=\"http://www.w3.org/2000/svg\" height=\"24px\"viewBox=\"0 0 24 24\"\n",
              "     width=\"24px\">\n",
              "    <g>\n",
              "        <path d=\"M19 3H5c-1.1 0-2 .9-2 2v14c0 1.1.9 2 2 2h14c1.1 0 2-.9 2-2V5c0-1.1-.9-2-2-2zM9 17H7v-7h2v7zm4 0h-2V7h2v10zm4 0h-2v-4h2v4z\"/>\n",
              "    </g>\n",
              "</svg>\n",
              "      </button>\n",
              "\n",
              "<style>\n",
              "  .colab-df-quickchart {\n",
              "      --bg-color: #E8F0FE;\n",
              "      --fill-color: #1967D2;\n",
              "      --hover-bg-color: #E2EBFA;\n",
              "      --hover-fill-color: #174EA6;\n",
              "      --disabled-fill-color: #AAA;\n",
              "      --disabled-bg-color: #DDD;\n",
              "  }\n",
              "\n",
              "  [theme=dark] .colab-df-quickchart {\n",
              "      --bg-color: #3B4455;\n",
              "      --fill-color: #D2E3FC;\n",
              "      --hover-bg-color: #434B5C;\n",
              "      --hover-fill-color: #FFFFFF;\n",
              "      --disabled-bg-color: #3B4455;\n",
              "      --disabled-fill-color: #666;\n",
              "  }\n",
              "\n",
              "  .colab-df-quickchart {\n",
              "    background-color: var(--bg-color);\n",
              "    border: none;\n",
              "    border-radius: 50%;\n",
              "    cursor: pointer;\n",
              "    display: none;\n",
              "    fill: var(--fill-color);\n",
              "    height: 32px;\n",
              "    padding: 0;\n",
              "    width: 32px;\n",
              "  }\n",
              "\n",
              "  .colab-df-quickchart:hover {\n",
              "    background-color: var(--hover-bg-color);\n",
              "    box-shadow: 0 1px 2px rgba(60, 64, 67, 0.3), 0 1px 3px 1px rgba(60, 64, 67, 0.15);\n",
              "    fill: var(--button-hover-fill-color);\n",
              "  }\n",
              "\n",
              "  .colab-df-quickchart-complete:disabled,\n",
              "  .colab-df-quickchart-complete:disabled:hover {\n",
              "    background-color: var(--disabled-bg-color);\n",
              "    fill: var(--disabled-fill-color);\n",
              "    box-shadow: none;\n",
              "  }\n",
              "\n",
              "  .colab-df-spinner {\n",
              "    border: 2px solid var(--fill-color);\n",
              "    border-color: transparent;\n",
              "    border-bottom-color: var(--fill-color);\n",
              "    animation:\n",
              "      spin 1s steps(1) infinite;\n",
              "  }\n",
              "\n",
              "  @keyframes spin {\n",
              "    0% {\n",
              "      border-color: transparent;\n",
              "      border-bottom-color: var(--fill-color);\n",
              "      border-left-color: var(--fill-color);\n",
              "    }\n",
              "    20% {\n",
              "      border-color: transparent;\n",
              "      border-left-color: var(--fill-color);\n",
              "      border-top-color: var(--fill-color);\n",
              "    }\n",
              "    30% {\n",
              "      border-color: transparent;\n",
              "      border-left-color: var(--fill-color);\n",
              "      border-top-color: var(--fill-color);\n",
              "      border-right-color: var(--fill-color);\n",
              "    }\n",
              "    40% {\n",
              "      border-color: transparent;\n",
              "      border-right-color: var(--fill-color);\n",
              "      border-top-color: var(--fill-color);\n",
              "    }\n",
              "    60% {\n",
              "      border-color: transparent;\n",
              "      border-right-color: var(--fill-color);\n",
              "    }\n",
              "    80% {\n",
              "      border-color: transparent;\n",
              "      border-right-color: var(--fill-color);\n",
              "      border-bottom-color: var(--fill-color);\n",
              "    }\n",
              "    90% {\n",
              "      border-color: transparent;\n",
              "      border-bottom-color: var(--fill-color);\n",
              "    }\n",
              "  }\n",
              "</style>\n",
              "\n",
              "      <script>\n",
              "        async function quickchart(key) {\n",
              "          const quickchartButtonEl =\n",
              "            document.querySelector('#' + key + ' button');\n",
              "          quickchartButtonEl.disabled = true;  // To prevent multiple clicks.\n",
              "          quickchartButtonEl.classList.add('colab-df-spinner');\n",
              "          try {\n",
              "            const charts = await google.colab.kernel.invokeFunction(\n",
              "                'suggestCharts', [key], {});\n",
              "          } catch (error) {\n",
              "            console.error('Error during call to suggestCharts:', error);\n",
              "          }\n",
              "          quickchartButtonEl.classList.remove('colab-df-spinner');\n",
              "          quickchartButtonEl.classList.add('colab-df-quickchart-complete');\n",
              "        }\n",
              "        (() => {\n",
              "          let quickchartButtonEl =\n",
              "            document.querySelector('#df-eb7fb3f8-6124-421e-8a1f-a4ff71452cc2 button');\n",
              "          quickchartButtonEl.style.display =\n",
              "            google.colab.kernel.accessAllowed ? 'block' : 'none';\n",
              "        })();\n",
              "      </script>\n",
              "    </div>\n",
              "\n",
              "    </div>\n",
              "  </div>\n"
            ],
            "application/vnd.google.colaboratory.intrinsic+json": {
              "type": "dataframe",
              "summary": "{\n  \"name\": \"df[df['Age'] > 30]\",\n  \"rows\": 2,\n  \"fields\": [\n    {\n      \"column\": \"Name\",\n      \"properties\": {\n        \"dtype\": \"string\",\n        \"num_unique_values\": 2,\n        \"samples\": [\n          \"David\",\n          \"Charlie\"\n        ],\n        \"semantic_type\": \"\",\n        \"description\": \"\"\n      }\n    },\n    {\n      \"column\": \"Age\",\n      \"properties\": {\n        \"dtype\": \"number\",\n        \"std\": 3,\n        \"min\": 35,\n        \"max\": 40,\n        \"num_unique_values\": 2,\n        \"samples\": [\n          40,\n          35\n        ],\n        \"semantic_type\": \"\",\n        \"description\": \"\"\n      }\n    },\n    {\n      \"column\": \"Score\",\n      \"properties\": {\n        \"dtype\": \"number\",\n        \"std\": 8.131727983645296,\n        \"min\": 76.5,\n        \"max\": 88.0,\n        \"num_unique_values\": 2,\n        \"samples\": [\n          76.5,\n          88.0\n        ],\n        \"semantic_type\": \"\",\n        \"description\": \"\"\n      }\n    },\n    {\n      \"column\": \"Passed\",\n      \"properties\": {\n        \"dtype\": \"boolean\",\n        \"num_unique_values\": 2,\n        \"samples\": [\n          false,\n          true\n        ],\n        \"semantic_type\": \"\",\n        \"description\": \"\"\n      }\n    }\n  ]\n}"
            }
          },
          "metadata": {},
          "execution_count": 30
        }
      ]
    },
    {
      "cell_type": "code",
      "source": [
        "df['Score'].mean()"
      ],
      "metadata": {
        "colab": {
          "base_uri": "https://localhost:8080/"
        },
        "id": "XkntGgGH3B4E",
        "outputId": "cd59115a-ee38-4f62-ad56-cc8688367a48"
      },
      "execution_count": 31,
      "outputs": [
        {
          "output_type": "execute_result",
          "data": {
            "text/plain": [
              "np.float64(85.5)"
            ]
          },
          "metadata": {},
          "execution_count": 31
        }
      ]
    },
    {
      "cell_type": "code",
      "source": [
        "# Step 1: Import required libraries\n",
        "import numpy as np\n",
        "import matplotlib.pyplot as plt\n",
        "# Step 2: Create NumPy array for 12 monthly temperature values (in Celsius)\n",
        "temperatures = np.array([25.5, 27.0, 30.2, 32.5, 35.1, 33.8,\n",
        "                         31.5, 30.0, 29.0, 28.0, 26.5, 25.0])\n",
        "print(\"Monthly Temperatures (°C):\", temperatures)\n",
        "# Step 3: Calculate average temperature\n",
        "avg_temp = np.mean(temperatures)\n",
        "print(\"Average Temperature:\", avg_temp)\n",
        "# Step 4: Find hottest and coldest months\n",
        "hottest_month = np.argmax(temperatures) + 1 # +1 for month index\n",
        "coldest_month = np.argmin(temperatures) + 1\n",
        "print(\"Hottest Month:\", hottest_month)\n",
        "print(\"Coldest Month:\", coldest_month)\n",
        "# Step 5: Normalize temperature values\n",
        "normalized_temps = (temperatures - np.min(temperatures)) / (np.max(temperatures) - np.min(temperatures))\n",
        "print(\"Normalized Temperatures:\", normalized_temps)\n",
        "# Step 6: Identify months above annual average\n",
        "above_avg_months = np.where(temperatures > avg_temp)[0] + 1\n",
        "print(\"Months Above Average Temperature:\", above_avg_months)\n",
        "# Step 7: Convert Celsius to Fahrenheit using vectorized operation\n",
        "fahrenheit_temps = (temperatures * 9/5) + 32\n",
        "print(\"Temperatures in Fahrenheit:\", fahrenheit_temps)\n",
        "# Step 8 (Optional): Visualize temperature trend\n",
        "plt.plot(range(1, 13), temperatures, marker='o', color='orange')\n",
        "plt.axhline(y=avg_temp, color='red', linestyle='--', label='Average Temp')\n",
        "plt.title(\"Monthly Temperature Trend\")\n",
        "plt.xlabel(\"Month\")\n",
        "plt.ylabel(\"Temperature (°C)\")\n",
        "plt.legend()\n",
        "plt.grid(True)\n",
        "plt.show()"
      ],
      "metadata": {
        "colab": {
          "base_uri": "https://localhost:8080/",
          "height": 631
        },
        "id": "L2KIif0i3SJf",
        "outputId": "4ecee3d5-d77d-4ccf-dfc0-ad41d0dd0db2"
      },
      "execution_count": 32,
      "outputs": [
        {
          "output_type": "stream",
          "name": "stdout",
          "text": [
            "Monthly Temperatures (°C): [25.5 27.  30.2 32.5 35.1 33.8 31.5 30.  29.  28.  26.5 25. ]\n",
            "Average Temperature: 29.508333333333336\n",
            "Hottest Month: 5\n",
            "Coldest Month: 12\n",
            "Normalized Temperatures: [0.04950495 0.1980198  0.51485149 0.74257426 1.         0.87128713\n",
            " 0.64356436 0.4950495  0.3960396  0.2970297  0.14851485 0.        ]\n",
            "Months Above Average Temperature: [3 4 5 6 7 8]\n",
            "Temperatures in Fahrenheit: [77.9  80.6  86.36 90.5  95.18 92.84 88.7  86.   84.2  82.4  79.7  77.  ]\n"
          ]
        },
        {
          "output_type": "display_data",
          "data": {
            "text/plain": [
              "<Figure size 640x480 with 1 Axes>"
            ],
            "image/png": "[encoded data removed]"
          },
          "metadata": {}
        }
      ]
    },
    {
      "cell_type": "code",
      "source": [
        "import pandas as pd\n",
        "# Step 2: Create pandas DataFrame\n",
        "data = {\n",
        "'Order ID': [101, 102, 103, 104, 105],\n",
        "'Product': ['Laptop', 'Mouse', 'Keyboard', 'Monitor', 'Printer'],\n",
        "'Quantity': [2, 5, 3, 1, 4],\n",
        "'Price': [55000, 800, 1500, 12000, 7000]\n",
        "}\n",
        "df = pd.DataFrame(data)\n",
        "print(\"Original DataFrame:\\n\", df)\n",
        "#Step3: Calculate TotalSaleperorder\n",
        "df['Total Sale'] =df['Quantity']* df['Price']\n",
        "print(\"\\nDataFrame withTotalSale:\\n\",df)\n",
        "#Step4: Filter orders withTotalSale>1000\n",
        "high_value_orders =df[df['Total Sale'] >1000]\n",
        "print(\"\\nOrders withTotalSale>1000:\\n\",high_value_orders)\n",
        "#Step5: Findmost soldproductusinggroupby\n",
        "most_sold =df.groupby('Product')['Quantity'].sum().idxmax()\n",
        "print(\"\\nMostSold Product:\",most_sold)\n",
        "#Step6: AddDiscountcolumnbasedonsaleamount\n",
        "df['Discount']= df['Total Sale'].apply(lambda x: 0.1*x if x >20000 else 0.05*x)\n",
        "print(\"\\nDataFrame withDiscount:\\n\",df)\n",
        "#Step7: Export summarytoExcel\n",
        "df.to_excel(\"sales_summary.xlsx\",index=False)\n",
        "print(\"\\nSales summary exportedto 'sales_summary.xlsx'\")"
      ],
      "metadata": {
        "colab": {
          "base_uri": "https://localhost:8080/"
        },
        "id": "n40p0M003qnt",
        "outputId": "16e26d6d-3f99-4f27-cc27-7d21bc4e9e65"
      },
      "execution_count": 23,
      "outputs": [
        {
          "output_type": "stream",
          "name": "stdout",
          "text": [
            "Original DataFrame:\n",
            "    Order ID   Product  Quantity  Price\n",
            "0       101    Laptop         2  55000\n",
            "1       102     Mouse         5    800\n",
            "2       103  Keyboard         3   1500\n",
            "3       104   Monitor         1  12000\n",
            "4       105   Printer         4   7000\n",
            "\n",
            "DataFrame withTotalSale:\n",
            "    Order ID   Product  Quantity  Price  Total Sale\n",
            "0       101    Laptop         2  55000      110000\n",
            "1       102     Mouse         5    800        4000\n",
            "2       103  Keyboard         3   1500        4500\n",
            "3       104   Monitor         1  12000       12000\n",
            "4       105   Printer         4   7000       28000\n",
            "\n",
            "Orders withTotalSale>1000:\n",
            "    Order ID   Product  Quantity  Price  Total Sale\n",
            "0       101    Laptop         2  55000      110000\n",
            "1       102     Mouse         5    800        4000\n",
            "2       103  Keyboard         3   1500        4500\n",
            "3       104   Monitor         1  12000       12000\n",
            "4       105   Printer         4   7000       28000\n",
            "\n",
            "MostSold Product: Mouse\n",
            "\n",
            "DataFrame withDiscount:\n",
            "    Order ID   Product  Quantity  Price  Total Sale  Discount\n",
            "0       101    Laptop         2  55000      110000   11000.0\n",
            "1       102     Mouse         5    800        4000     200.0\n",
            "2       103  Keyboard         3   1500        4500     225.0\n",
            "3       104   Monitor         1  12000       12000     600.0\n",
            "4       105   Printer         4   7000       28000    2800.0\n",
            "\n",
            "Sales summary exportedto 'sales_summary.xlsx'\n"
          ]
        }
      ]
    }
  ]
}